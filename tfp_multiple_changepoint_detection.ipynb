{
 "cells": [
  {
   "cell_type": "markdown",
   "metadata": {},
   "source": [
    "# tfp-multiple-changepoint-detection\n",
    "\n",
    "Author: Henry Cooksley\n",
    "\n",
    "Adapted from [Multiple changepoint detection and Bayesian model selection](https://www.tensorflow.org/probability/examples/Multiple_changepoint_detection_and_Bayesian_model_selection)"
   ]
  },
  {
   "cell_type": "code",
   "execution_count": 18,
   "metadata": {},
   "outputs": [],
   "source": [
    "import numpy as np\n",
    "import tensorflow.compat.v2 as tf\n",
    "tf.enable_v2_behavior()\n",
    "import tensorflow_probability as tfp\n",
    "from tensorflow_probability import distributions as tfd\n",
    "\n",
    "from matplotlib import pylab as plt\n",
    "%matplotlib inline\n",
    "import scipy.stats"
   ]
  },
  {
   "cell_type": "code",
   "execution_count": 34,
   "metadata": {},
   "outputs": [
    {
     "data": {
      "text/plain": [
       "array([35., 41., 43., 60., 39., 46., 50., 57., 50., 41., 39., 53., 43.,\n",
       "       56., 49., 48., 62., 35., 43., 60., 57., 45., 56., 60., 48., 49.,\n",
       "       48., 41., 40., 45., 48., 48., 47., 71., 54.,  0.,  0.,  2.,  5.,\n",
       "        2.,  3.,  3.,  3.,  0.,  4.,  3.,  4.,  2.,  3.,  5.,  4.,  6.,\n",
       "        2.,  1.,  2., 18., 19., 21., 19., 14., 55., 54., 41., 43., 52.,\n",
       "       62., 58., 49., 55., 50., 62., 49., 51., 49., 44., 57., 55., 45.,\n",
       "       45., 51., 56., 48., 49., 48., 59., 61., 48., 56., 64., 41., 35.,\n",
       "       46., 58., 43., 52.], dtype=float32)"
      ]
     },
     "execution_count": 34,
     "metadata": {},
     "output_type": "execute_result"
    }
   ],
   "source": [
    "true_rates = [50, 3, 20, 50]\n",
    "true_durations = [35, 20, 5, 35]\n",
    "observed_counts = np.concatenate([\n",
    "    scipy.stats.poisson(rate).rvs(num_steps) \n",
    "        for (rate, num_steps) in zip(true_rates, true_durations)\n",
    "]).astype(np.float32)\n",
    "observed_counts"
   ]
  },
  {
   "cell_type": "code",
   "execution_count": 35,
   "metadata": {},
   "outputs": [
    {
     "data": {
      "image/png": "[encoded data removed]",
      "text/plain": [
       "<Figure size 432x288 with 1 Axes>"
      ]
     },
     "metadata": {
      "needs_background": "light"
     },
     "output_type": "display_data"
    }
   ],
   "source": [
    "plt.plot(observed_counts);"
   ]
  },
  {
   "cell_type": "code",
   "execution_count": 36,
   "metadata": {},
   "outputs": [
    {
     "data": {
      "text/plain": [
       "array([0., 0., 0., 0.], dtype=float32)"
      ]
     },
     "execution_count": 36,
     "metadata": {},
     "output_type": "execute_result"
    }
   ],
   "source": [
    "num_states = 4\n",
    "initial_state_logits = np.zeros([num_states], dtype=np.float32)\n",
    "initial_state_logits"
   ]
  },
  {
   "cell_type": "code",
   "execution_count": 37,
   "metadata": {},
   "outputs": [
    {
     "data": {
      "text/plain": [
       "array([[0.01666667, 0.01666667, 0.01666667, 0.01666667],\n",
       "       [0.01666667, 0.01666667, 0.01666667, 0.01666667],\n",
       "       [0.01666667, 0.01666667, 0.01666667, 0.01666667],\n",
       "       [0.01666667, 0.01666667, 0.01666667, 0.01666667]], dtype=float32)"
      ]
     },
     "execution_count": 37,
     "metadata": {},
     "output_type": "execute_result"
    }
   ],
   "source": [
    "daily_change_prob = 0.05\n",
    "transition_probs = daily_change_prob / (num_states-1) * np.ones(\n",
    "    [num_states, num_states], dtype=np.float32)\n",
    "transition_probs"
   ]
  },
  {
   "cell_type": "code",
   "execution_count": 38,
   "metadata": {},
   "outputs": [],
   "source": [
    "np.fill_diagonal(transition_probs, \n",
    "                 1-daily_change_prob)"
   ]
  },
  {
   "cell_type": "code",
   "execution_count": 39,
   "metadata": {},
   "outputs": [
    {
     "name": "stdout",
     "output_type": "stream",
     "text": [
      "Initial state logits:\n",
      "[0. 0. 0. 0.]\n",
      "Transition matrix:\n",
      "[[0.95       0.01666667 0.01666667 0.01666667]\n",
      " [0.01666667 0.95       0.01666667 0.01666667]\n",
      " [0.01666667 0.01666667 0.95       0.01666667]\n",
      " [0.01666667 0.01666667 0.01666667 0.95      ]]\n"
     ]
    }
   ],
   "source": [
    "print(f\"Initial state logits:\\n{initial_state_logits}\")\n",
    "print(f\"Transition matrix:\\n{transition_probs}\")"
   ]
  },
  {
   "cell_type": "code",
   "execution_count": 40,
   "metadata": {},
   "outputs": [
    {
     "data": {
      "text/plain": [
       "<tf.Variable 'log_rates:0' shape=(4,) dtype=float32, numpy=array([5.1758966, 4.221461 , 2.1966858, 3.312969 ], dtype=float32)>"
      ]
     },
     "execution_count": 40,
     "metadata": {},
     "output_type": "execute_result"
    }
   ],
   "source": [
    "trainable_log_rates = tf.Variable(\n",
    "    np.log(np.mean(observed_counts)) + tf.random.normal([num_states]),\n",
    "    name='log_rates')\n",
    "trainable_log_rates"
   ]
  },
  {
   "cell_type": "code",
   "execution_count": 41,
   "metadata": {},
   "outputs": [
    {
     "data": {
      "text/plain": [
       "<tfp.distributions.HiddenMarkovModel 'HiddenMarkovModel' batch_shape=[] event_shape=[95] dtype=float32>"
      ]
     },
     "execution_count": 41,
     "metadata": {},
     "output_type": "execute_result"
    }
   ],
   "source": [
    "hmm = tfd.HiddenMarkovModel(\n",
    "    initial_distribution=tfd.Categorical(\n",
    "        logits=initial_state_logits),\n",
    "    transition_distribution=tfd.Categorical(probs=transition_probs),\n",
    "    observation_distribution=tfd.Poisson(log_rate=trainable_log_rates),\n",
    "    num_steps=len(observed_counts))\n",
    "hmm"
   ]
  },
  {
   "cell_type": "code",
   "execution_count": 42,
   "metadata": {},
   "outputs": [
    {
     "data": {
      "text/plain": [
       "<tfp.distributions.LogNormal 'LogNormal' batch_shape=[] event_shape=[] dtype=float32>"
      ]
     },
     "execution_count": 42,
     "metadata": {},
     "output_type": "execute_result"
    }
   ],
   "source": [
    "rate_prior = tfd.LogNormal(5, 5)\n",
    "rate_prior"
   ]
  },
  {
   "cell_type": "code",
   "execution_count": 43,
   "metadata": {},
   "outputs": [],
   "source": [
    "def log_prob():\n",
    "    return (tf.reduce_sum(rate_prior.log_prob(tf.math.exp(trainable_log_rates))) +\n",
    "           hmm.log_prob(observed_counts))"
   ]
  },
  {
   "cell_type": "code",
   "execution_count": 44,
   "metadata": {},
   "outputs": [
    {
     "data": {
      "text/plain": [
       "<tensorflow.python.keras.optimizer_v2.adam.Adam at 0x7f99abaded00>"
      ]
     },
     "execution_count": 44,
     "metadata": {},
     "output_type": "execute_result"
    }
   ],
   "source": [
    "optimizer = tf.keras.optimizers.Adam(learning_rate=0.1)\n",
    "optimizer"
   ]
  },
  {
   "cell_type": "code",
   "execution_count": 45,
   "metadata": {},
   "outputs": [],
   "source": [
    "@tf.function(autograph=False)\n",
    "def train_op():\n",
    "    with tf.GradientTape() as tape:\n",
    "        neg_log_prob = -log_prob()\n",
    "    grads = tape.gradient(neg_log_prob, [trainable_log_rates])[0]\n",
    "    optimizer.apply_gradients([(grads, trainable_log_rates)])\n",
    "    return neg_log_prob, tf.math.exp(trainable_log_rates)\n"
   ]
  },
  {
   "cell_type": "code",
   "execution_count": 49,
   "metadata": {},
   "outputs": [
    {
     "name": "stdout",
     "output_type": "stream",
     "text": [
      "step 0: log prob -330.08154296875 rates [49.598362 50.280727  2.658044 18.01825 ]\n",
      "step 20: log prob -330.08154296875 rates [49.598232 50.280727  2.658044 18.01825 ]\n",
      "step 40: log prob -330.0816345214844 rates [49.598316 50.280693  2.658044 18.01825 ]\n",
      "step 60: log prob -330.0816955566406 rates [49.598377  50.280727   2.6580439 18.01825  ]\n",
      "step 80: log prob -330.0816345214844 rates [49.598446  50.280693   2.6580439 18.01825  ]\n",
      "step 100: log prob -330.0816345214844 rates [49.598446  50.280693   2.6580439 18.01825  ]\n",
      "step 120: log prob -330.0816345214844 rates [49.598446 50.280693  2.658044 18.01825 ]\n",
      "step 140: log prob -330.0816345214844 rates [49.598446 50.280693  2.658044 18.01825 ]\n",
      "step 160: log prob -330.0816345214844 rates [49.598446 50.280693  2.658044 18.01825 ]\n",
      "step 180: log prob -330.0816345214844 rates [49.598446 50.280693  2.658044 18.01825 ]\n",
      "step 200: log prob -330.0816345214844 rates [49.598446 50.280693  2.658044 18.01825 ]\n",
      "\n",
      "\n",
      "Inferred rates: [49.598446 50.280693  2.658044 18.01825 ]\n",
      "True rates: [50, 3, 20, 50]\n"
     ]
    }
   ],
   "source": [
    "for step in range(201):\n",
    "    loss, rates = [t.numpy() for t in train_op()]\n",
    "    if step % 20 == 0:\n",
    "        print(f\"step {step}: log prob {-loss} rates {rates}\")\n",
    "\n",
    "print(\"\\n\")\n",
    "print(f\"Inferred rates: {rates}\")\n",
    "print(f\"True rates: {true_rates}\")"
   ]
  },
  {
   "cell_type": "code",
   "execution_count": null,
   "metadata": {},
   "outputs": [],
   "source": []
  },
  {
   "cell_type": "code",
   "execution_count": null,
   "metadata": {},
   "outputs": [],
   "source": []
  }
 ],
 "metadata": {
  "kernelspec": {
   "display_name": "Python 3",
   "language": "python",
   "name": "python3"
  },
  "language_info": {
   "codemirror_mode": {
    "name": "ipython",
    "version": 3
   },
   "file_extension": ".py",
   "mimetype": "text/x-python",
   "name": "python",
   "nbconvert_exporter": "python",
   "pygments_lexer": "ipython3",
   "version": "3.8.5"
  }
 },
 "nbformat": 4,
 "nbformat_minor": 4
}
