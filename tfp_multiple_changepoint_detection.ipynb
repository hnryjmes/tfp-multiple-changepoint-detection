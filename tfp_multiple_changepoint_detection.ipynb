{
 "cells": [
  {
   "cell_type": "markdown",
   "metadata": {},
   "source": [
    "# tfp-multiple-changepoint-detection\n",
    "\n",
    "Author: Henry Cooksley\n",
    "\n",
    "Adapted from [Multiple changepoint detection and Bayesian model selection](https://www.tensorflow.org/probability/examples/Multiple_changepoint_detection_and_Bayesian_model_selection)"
   ]
  },
  {
   "cell_type": "code",
   "execution_count": null,
   "metadata": {},
   "outputs": [],
   "source": [
    "!pip install -r requirements.txt"
   ]
  },
  {
   "cell_type": "code",
   "execution_count": null,
   "metadata": {},
   "outputs": [],
   "source": [
    "import numpy as np\n",
    "import tensorflow.compat.v2 as tf\n",
    "tf.enable_v2_behavior()\n",
    "import tensorflow_probability as tfp\n",
    "from tensorflow_probability import distributions as tfd\n",
    "\n",
    "from matplotlib import pylab as plt\n",
    "%matplotlib inline\n",
    "import scipy.stats"
   ]
  },
  {
   "cell_type": "code",
   "execution_count": null,
   "metadata": {},
   "outputs": [],
   "source": [
    "# true_rates = [40, 3, 20, 50]\n",
    "# true_durations = [10, 20, 5, 35]\n",
    "true_rates = [50, 3, 20, 50]\n",
    "true_durations = [35, 20, 5, 35]\n",
    "observed_counts = np.concatenate([\n",
    "    scipy.stats.poisson(rate).rvs(num_steps) \n",
    "        for (rate, num_steps) in zip(true_rates, true_durations)\n",
    "]).astype(np.float32)\n",
    "observed_counts"
   ]
  },
  {
   "cell_type": "code",
   "execution_count": null,
   "metadata": {},
   "outputs": [],
   "source": [
    "plt.plot(observed_counts);"
   ]
  },
  {
   "cell_type": "code",
   "execution_count": null,
   "metadata": {},
   "outputs": [],
   "source": [
    "num_states = 4\n",
    "initial_state_logits = np.zeros([num_states], dtype=np.float32)\n",
    "initial_state_logits"
   ]
  },
  {
   "cell_type": "code",
   "execution_count": null,
   "metadata": {},
   "outputs": [],
   "source": [
    "daily_change_prob = 0.05\n",
    "transition_probs = daily_change_prob / (num_states-1) * np.ones(\n",
    "    [num_states, num_states], dtype=np.float32)\n",
    "transition_probs"
   ]
  },
  {
   "cell_type": "code",
   "execution_count": null,
   "metadata": {},
   "outputs": [],
   "source": [
    "np.fill_diagonal(transition_probs, \n",
    "                 1-daily_change_prob)"
   ]
  },
  {
   "cell_type": "code",
   "execution_count": null,
   "metadata": {},
   "outputs": [],
   "source": [
    "print(f\"Initial state logits:\\n{initial_state_logits}\")\n",
    "print(f\"Transition matrix:\\n{transition_probs}\")"
   ]
  },
  {
   "cell_type": "code",
   "execution_count": null,
   "metadata": {},
   "outputs": [],
   "source": [
    "trainable_log_rates = tf.Variable(\n",
    "    np.log(np.mean(observed_counts)) + tf.random.normal([num_states]),\n",
    "    name='log_rates')\n",
    "trainable_log_rates"
   ]
  },
  {
   "cell_type": "code",
   "execution_count": null,
   "metadata": {},
   "outputs": [],
   "source": [
    "hmm = tfd.HiddenMarkovModel(\n",
    "    initial_distribution=tfd.Categorical(\n",
    "        logits=initial_state_logits),\n",
    "    transition_distribution=tfd.Categorical(probs=transition_probs),\n",
    "    observation_distribution=tfd.Poisson(log_rate=trainable_log_rates),\n",
    "    num_steps=len(observed_counts))\n",
    "hmm"
   ]
  },
  {
   "cell_type": "code",
   "execution_count": null,
   "metadata": {},
   "outputs": [],
   "source": [
    "rate_prior = tfd.LogNormal(5, 5)\n",
    "rate_prior"
   ]
  },
  {
   "cell_type": "code",
   "execution_count": null,
   "metadata": {},
   "outputs": [],
   "source": [
    "def log_prob():\n",
    "    return (tf.reduce_sum(rate_prior.log_prob(tf.math.exp(trainable_log_rates))) +\n",
    "           hmm.log_prob(observed_counts))"
   ]
  },
  {
   "cell_type": "code",
   "execution_count": null,
   "metadata": {},
   "outputs": [],
   "source": [
    "optimizer = tf.keras.optimizers.Adam(learning_rate=0.1)\n",
    "optimizer"
   ]
  },
  {
   "cell_type": "code",
   "execution_count": null,
   "metadata": {},
   "outputs": [],
   "source": [
    "@tf.function(autograph=False)\n",
    "def train_op():\n",
    "    with tf.GradientTape() as tape:\n",
    "        neg_log_prob = -log_prob()\n",
    "    grads = tape.gradient(neg_log_prob, [trainable_log_rates])[0]\n",
    "    optimizer.apply_gradients([(grads, trainable_log_rates)])\n",
    "    return neg_log_prob, tf.math.exp(trainable_log_rates)\n"
   ]
  },
  {
   "cell_type": "code",
   "execution_count": null,
   "metadata": {},
   "outputs": [],
   "source": [
    "for step in range(201):\n",
    "    loss, rates = [t.numpy() for t in train_op()]\n",
    "    if step % 20 == 0:\n",
    "        print(f\"step {step}: log prob {-loss} rates {rates}\")\n",
    "\n",
    "print(\"\\n\")\n",
    "print(f\"Inferred rates: {rates}\")\n",
    "print(\"\\n\")\n",
    "print(f\"True rates: {true_rates}\")"
   ]
  },
  {
   "cell_type": "code",
   "execution_count": null,
   "metadata": {},
   "outputs": [],
   "source": [
    "posterior_dists = hmm.posterior_marginals(observed_counts)\n",
    "posterior_dists"
   ]
  },
  {
   "cell_type": "code",
   "execution_count": null,
   "metadata": {},
   "outputs": [],
   "source": [
    "posterior_probs = posterior_dists.probs_parameter().numpy()\n",
    "posterior_probs"
   ]
  },
  {
   "cell_type": "code",
   "execution_count": null,
   "metadata": {},
   "outputs": [],
   "source": [
    "def plot_state_posterior(ax, state_posterior_probs, title):\n",
    "    ln1 = ax.plot(state_posterior_probs, c='blue', lw=3, label='p(state | counts)')\n",
    "    ax.set_ylim(0., 1.1)\n",
    "    ax.set_ylabel('posterior probability')\n",
    "    ax2 = ax.twinx()\n",
    "    ln2 = ax2.plot(observed_counts, c='black', alpha=0.3, label='observed counts')\n",
    "    ax2.set_title(title)\n",
    "    ax2.set_xlabel('time')\n",
    "    lns = ln1+ln2\n",
    "    labs = [l.get_label() for l in lns]\n",
    "    ax.legend(lns, labs, loc=4)\n",
    "    ax.grid(True, color='white')\n",
    "    ax2.grid(False)\n"
   ]
  },
  {
   "cell_type": "code",
   "execution_count": null,
   "metadata": {},
   "outputs": [],
   "source": [
    "fig = plt.figure(figsize=(10, 10))\n",
    "nrows_ncols = (2, 2)\n",
    "plot_state_posterior(fig.add_subplot(*nrows_ncols, 1),\n",
    "                    posterior_probs[:, 0],\n",
    "                    title=f\"state 0 (rate {rates[0]:.2f})\")\n",
    "plot_state_posterior(fig.add_subplot(*nrows_ncols, 2),\n",
    "                    posterior_probs[:, 1],\n",
    "                    title=f\"state 1 (rate {rates[1]:.2f})\")\n",
    "plot_state_posterior(fig.add_subplot(*nrows_ncols, 3),\n",
    "                    posterior_probs[:, 2],\n",
    "                    title=f\"state 3 (rate {rates[2]:.2f})\")\n",
    "plot_state_posterior(fig.add_subplot(*nrows_ncols, 4),\n",
    "                    posterior_probs[:, 3],\n",
    "                    title=f\"state 4 (rate {rates[3]:.2f})\")\n",
    "plt.tight_layout()"
   ]
  },
  {
   "cell_type": "code",
   "execution_count": null,
   "metadata": {},
   "outputs": [],
   "source": [
    "most_probable_states = np.argmax(posterior_probs, axis=1)\n",
    "most_probable_states"
   ]
  },
  {
   "cell_type": "code",
   "execution_count": null,
   "metadata": {},
   "outputs": [],
   "source": [
    "most_probable_rates = rates[most_probable_states]\n",
    "most_probable_rates"
   ]
  },
  {
   "cell_type": "code",
   "execution_count": null,
   "metadata": {},
   "outputs": [],
   "source": [
    "fig = plt.figure(figsize=(10, 4))\n",
    "ax = fig.add_subplot(1, 1, 1)\n",
    "ax.plot(most_probable_rates, c='green', lw=3, label='inferred rate')\n",
    "ax.plot(observed_counts, c='black', alpha=0.3, label='observed_counts')\n",
    "ax.set_ylabel('latent_rate')\n",
    "ax.set_xlabel('time')\n",
    "ax.set_title('Inferred latent rate over time')\n",
    "ax.legend(loc=4);"
   ]
  },
  {
   "cell_type": "code",
   "execution_count": null,
   "metadata": {},
   "outputs": [],
   "source": []
  }
 ],
 "metadata": {
  "kernelspec": {
   "display_name": "Python 3",
   "language": "python",
   "name": "python3"
  },
  "language_info": {
   "codemirror_mode": {
    "name": "ipython",
    "version": 3
   },
   "file_extension": ".py",
   "mimetype": "text/x-python",
   "name": "python",
   "nbconvert_exporter": "python",
   "pygments_lexer": "ipython3",
   "version": "3.8.3"
  }
 },
 "nbformat": 4,
 "nbformat_minor": 4
}
